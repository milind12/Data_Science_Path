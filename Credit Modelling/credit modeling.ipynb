{
 "cells": [
  {
   "cell_type": "code",
   "execution_count": 64,
   "metadata": {},
   "outputs": [
    {
     "name": "stderr",
     "output_type": "stream",
     "text": [
      "C:\\Users\\milin\\Anaconda3\\lib\\site-packages\\IPython\\core\\interactiveshell.py:2728: DtypeWarning: Columns (0,47) have mixed types. Specify dtype option on import or set low_memory=False.\n",
      "  interactivity=interactivity, compiler=compiler, result=result)\n"
     ]
    }
   ],
   "source": [
    "import pandas as pd\n",
    "\n",
    "# read dataset\n",
    "df=pd.read_csv(\"LoanStats3a.csv\",skiprows=1)\n",
    "\n",
    "#remove columns with more than 50% null values\n",
    "rows=df.shape[0]\n",
    "drop_na_columns=df.isna().sum()[df.isna().sum()>0.5*rows].index\n",
    "df=df.drop(drop_na_columns,axis=1)\n",
    "df=df.drop(['desc'],axis=1)"
   ]
  },
  {
   "cell_type": "code",
   "execution_count": 65,
   "metadata": {},
   "outputs": [],
   "source": [
    "df=df.drop(['funded_amnt','funded_amnt_inv','grade','sub_grade','emp_title','issue_d','zip_code','out_prncp','out_prncp_inv','total_pymnt','total_pymnt_inv','total_rec_prncp','total_rec_int','total_rec_late_fee','recoveries','collection_recovery_fee','last_pymnt_d','last_pymnt_amnt'],axis=1)"
   ]
  },
  {
   "cell_type": "code",
   "execution_count": 66,
   "metadata": {},
   "outputs": [
    {
     "data": {
      "text/plain": [
       "1    34116\n",
       "0     5670\n",
       "Name: loan_status, dtype: int64"
      ]
     },
     "execution_count": 66,
     "metadata": {},
     "output_type": "execute_result"
    }
   ],
   "source": [
    "df=df[(df['loan_status']=='Charged Off' )|(df['loan_status']=='Fully Paid')]\n",
    "loan_status_replace={\"loan_status\":{\"Charged Off\":0,\"Fully Paid\":1}}\n",
    "df=df.replace(loan_status_replace)\n",
    "df[\"loan_status\"].value_counts()"
   ]
  },
  {
   "cell_type": "code",
   "execution_count": 67,
   "metadata": {},
   "outputs": [],
   "source": [
    "#drop columns with only one values\n",
    "for col in df.columns:\n",
    "    if len(df[col].dropna().unique())==1:\n",
    "        df=df.drop(col,axis=1)"
   ]
  },
  {
   "cell_type": "code",
   "execution_count": 68,
   "metadata": {},
   "outputs": [],
   "source": [
    "#drop rows with more than one percent missing values\n",
    "df=df.drop(df.isna().sum()[df.isna().sum()>0.01*rows].index,axis=1)"
   ]
  },
  {
   "cell_type": "code",
   "execution_count": 69,
   "metadata": {},
   "outputs": [
    {
     "data": {
      "text/plain": [
       "object     11\n",
       "float64    10\n",
       "int64       1\n",
       "dtype: int64"
      ]
     },
     "execution_count": 69,
     "metadata": {},
     "output_type": "execute_result"
    }
   ],
   "source": [
    "#drop rows with missing values \n",
    "df=df.dropna()\n",
    "df.dtypes.value_counts()"
   ]
  },
  {
   "cell_type": "code",
   "execution_count": 70,
   "metadata": {},
   "outputs": [
    {
     "data": {
      "text/plain": [
       "Index(['loan_amnt', 'int_rate', 'installment', 'annual_inc', 'loan_status',\n",
       "       'dti', 'delinq_2yrs', 'inq_last_6mths', 'open_acc', 'pub_rec',\n",
       "       'revol_bal', 'revol_util', 'total_acc', 'home_ownership_MORTGAGE',\n",
       "       'home_ownership_NONE', 'home_ownership_OTHER', 'home_ownership_OWN',\n",
       "       'home_ownership_RENT', 'verification_status_Not Verified',\n",
       "       'verification_status_Source Verified', 'verification_status_Verified',\n",
       "       'purpose_car', 'purpose_credit_card', 'purpose_debt_consolidation',\n",
       "       'purpose_educational', 'purpose_home_improvement', 'purpose_house',\n",
       "       'purpose_major_purchase', 'purpose_medical', 'purpose_moving',\n",
       "       'purpose_other', 'purpose_renewable_energy', 'purpose_small_business',\n",
       "       'purpose_vacation', 'purpose_wedding', 'term_ 36 months',\n",
       "       'term_ 60 months', 'debt_settlement_flag_N', 'debt_settlement_flag_Y'],\n",
       "      dtype='object')"
      ]
     },
     "execution_count": 70,
     "metadata": {},
     "output_type": "execute_result"
    }
   ],
   "source": [
    "str_df=df.select_dtypes(include=['object'])\n",
    "\n",
    "#some object dtype columns can be converted to float columns\n",
    "def convertToFloat(v):\n",
    "    v=v.replace(\"%\",\"\")\n",
    "    v=v.strip()\n",
    "    return float(v)\n",
    "\n",
    "df[str_df.columns[8]]=str_df[str_df.columns[8]].apply(convertToFloat)\n",
    "\n",
    "df[str_df.columns[1]]=str_df[str_df.columns[1]].apply(convertToFloat)\n",
    "\n",
    "\n",
    "\n",
    "#as title and addr_stat columns contain more discrete values, drop them\n",
    "df=df.drop([\"title\",\"addr_state\",\"earliest_cr_line\",\"last_credit_pull_d\"],axis=1)\n",
    "\n",
    "\n",
    "#make use of categorical columns by using dummy encoding\n",
    "cat_col=[\"home_ownership\", \"verification_status\", \"purpose\",\"term\",\"debt_settlement_flag\"]\n",
    "dummies=pd.get_dummies(df[cat_col])\n",
    "df=pd.concat([df,dummies],axis=1)\n",
    "df=df.drop(cat_col,axis=1)\n",
    "df.columns"
   ]
  },
  {
   "cell_type": "code",
   "execution_count": 71,
   "metadata": {},
   "outputs": [
    {
     "name": "stdout",
     "output_type": "stream",
     "text": [
      "0.999236910072787   0.9985843213590515\n"
     ]
    }
   ],
   "source": [
    "#Let us use linear regression first and check if fpr is high then we can shift to a different model\n",
    "from sklearn.linear_model import LogisticRegression\n",
    "from sklearn.cross_validation import cross_val_predict,KFold\n",
    "target=\"loan_status\"\n",
    "features=list(df.columns)\n",
    "features.remove(target)\n",
    "\n",
    "lr=LogisticRegression()\n",
    "kf=KFold(df[features].shape[0],random_state=1)\n",
    "predictions=cross_val_predict(lr,df[features],df[target],cv=kf)\n",
    "tp=len(df[(predictions==1 )& (df[target]== 1)])\n",
    "fp=len(df[(predictions==1 )& (df[target]== 0)])\n",
    "tn=len(df[(predictions==0 )& (df[target]== 0)])\n",
    "fn =len(df[(predictions==0 )& (df[target]== 1)])\n",
    "print(tp/(fn+tp),\" \",fp/(fp+tn))\n"
   ]
  },
  {
   "cell_type": "code",
   "execution_count": 72,
   "metadata": {
    "scrolled": true
   },
   "outputs": [
    {
     "name": "stdout",
     "output_type": "stream",
     "text": [
      "0.9660131486264382   0.8917005839674393\n"
     ]
    }
   ],
   "source": [
    "#fpr is high, and so apply RandomForestClassifier\n",
    "from sklearn.ensemble import RandomForestClassifier\n",
    "lr=RandomForestClassifier()\n",
    "kf=KFold(df[features].shape[0],random_state=1)\n",
    "predictions=cross_val_predict(lr,df[features],df[target],cv=kf)\n",
    "tp=len(df[(predictions==1 )& (df[target]== 1)])\n",
    "fp=len(df[(predictions==1 )& (df[target]== 0)])\n",
    "tn=len(df[(predictions==0 )& (df[target]== 0)])\n",
    "fn =len(df[(predictions==0 )& (df[target]== 1)])\n",
    "print(tp/(fn+tp),\" \",fp/(fp+tn))"
   ]
  }
 ],
 "metadata": {
  "kernelspec": {
   "display_name": "Python 3",
   "language": "python",
   "name": "python3"
  },
  "language_info": {
   "codemirror_mode": {
    "name": "ipython",
    "version": 3
   },
   "file_extension": ".py",
   "mimetype": "text/x-python",
   "name": "python",
   "nbconvert_exporter": "python",
   "pygments_lexer": "ipython3",
   "version": "3.6.4"
  }
 },
 "nbformat": 4,
 "nbformat_minor": 2
}
