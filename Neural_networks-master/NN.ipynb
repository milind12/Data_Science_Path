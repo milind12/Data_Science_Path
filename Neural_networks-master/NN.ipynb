{
 "cells": [
  {
   "cell_type": "code",
   "execution_count": 1,
   "metadata": {},
   "outputs": [
    {
     "name": "stdout",
     "output_type": "stream",
     "text": [
      "C:\\Users\\CFILT\\Desktop\\dataquest\\Machine Learning in Python Intermediate\n"
     ]
    }
   ],
   "source": [
    "cd C:\\Users\\CFILT\\Desktop\\dataquest\\Machine Learning in Python Intermediate"
   ]
  },
  {
   "cell_type": "code",
   "execution_count": 4,
   "metadata": {},
   "outputs": [],
   "source": [
    "%matplotlib inline \n",
    "import pandas\n",
    "import matplotlib.pyplot as plt\n",
    "import numpy as np\n",
    "\n",
    "# Read in dataset\n",
    "iris = pandas.read_csv(\"iris.csv\")\n",
    "\n",
    "# shuffle rows\n",
    "shuffled_rows = np.random.permutation(iris.index)\n",
    "iris = iris.loc[shuffled_rows,:]"
   ]
  },
  {
   "cell_type": "code",
   "execution_count": 5,
   "metadata": {},
   "outputs": [
    {
     "name": "stdout",
     "output_type": "stream",
     "text": [
      "    sepal_length  sepal_width  petal_length  petal_width          species\n",
      "69           6.0          2.2           5.0          1.5   Iris-virginica\n",
      "14           5.6          2.9           3.6          1.3  Iris-versicolor\n",
      "51           5.8          2.7           5.1          1.9   Iris-virginica\n",
      "52           7.1          3.0           5.9          2.1   Iris-virginica\n",
      "50           6.3          3.3           6.0          2.5   Iris-virginica\n",
      "['Iris-virginica' 'Iris-versicolor']\n"
     ]
    },
    {
     "data": {
      "image/png": "[encoded data removed]",
      "text/plain": [
       "<matplotlib.figure.Figure at 0x22cb08c6cf8>"
      ]
     },
     "metadata": {},
     "output_type": "display_data"
    }
   ],
   "source": [
    "print(iris.head())\n",
    "\n",
    "# There are 2 species\n",
    "print(iris.species.unique())\n",
    "iris.hist()\n",
    "\n",
    "## 2. Neurons ##\n",
    "\n",
    "import math\n",
    "z = np.asarray([[9, 5, 4]])\n",
    "y = np.asarray([[-1, 2, 4]])"
   ]
  },
  {
   "cell_type": "code",
   "execution_count": 18,
   "metadata": {},
   "outputs": [],
   "source": [
    "# np.dot is used for matrix multiplication\n",
    "# z is 1x3 and y is 1x3,  z * y.T is then 1x1\n",
    "def sigmoid_activation(x,theta):\n",
    "    x = np.asarray(x)\n",
    "    theta = np.asarray(theta)\n",
    "    return 1 / (1 + np.exp(-np.dot(theta.T, x)))\n",
    "\n",
    "\n",
    "\n",
    "\n",
    "# Variables to test sigmoid_activation\n",
    "iris[\"ones\"] = np.ones(iris.shape[0])\n",
    "X = iris[['ones', 'sepal_length', 'sepal_width', 'petal_length', 'petal_width']].values\n",
    "y = (iris.species == 'Iris-versicolor').values.astype(int)\n",
    "\n",
    "# The first observation\n",
    "x0 = X[0]\n",
    "# Initialize thetas randomly \n",
    "theta_init = np.random.normal(0,0.01,size=(5,1))\n",
    "a1=sigmoid_activation(x0,theta_init)"
   ]
  },
  {
   "cell_type": "code",
   "execution_count": 20,
   "metadata": {},
   "outputs": [
    {
     "name": "stdout",
     "output_type": "stream",
     "text": [
      "[[ 1.   6.   2.2  5.   1.5]\n",
      " [ 1.   5.6  2.9  3.6  1.3]\n",
      " [ 1.   5.8  2.7  5.1  1.9]\n",
      " [ 1.   7.1  3.   5.9  2.1]\n",
      " [ 1.   6.3  3.3  6.   2.5]\n",
      " [ 1.   6.9  3.1  5.4  2.1]\n",
      " [ 1.   6.   2.2  4.   1. ]\n",
      " [ 1.   5.6  2.7  4.2  1.3]\n",
      " [ 1.   7.2  3.   5.8  1.6]\n",
      " [ 1.   6.7  2.5  5.8  1.8]\n",
      " [ 1.   5.5  2.4  3.8  1.1]\n",
      " [ 1.   5.2  2.7  3.9  1.4]\n",
      " [ 1.   5.9  3.   5.1  1.8]\n",
      " [ 1.   5.8  2.7  4.1  1. ]\n",
      " [ 1.   6.1  2.8  4.   1.3]\n",
      " [ 1.   6.7  3.1  4.7  1.5]\n",
      " [ 1.   6.5  2.8  4.6  1.5]\n",
      " [ 1.   6.   2.9  4.5  1.5]\n",
      " [ 1.   5.7  2.9  4.2  1.3]\n",
      " [ 1.   5.7  2.5  5.   2. ]\n",
      " [ 1.   5.4  3.   4.5  1.5]\n",
      " [ 1.   5.5  2.3  4.   1.3]\n",
      " [ 1.   7.7  2.8  6.7  2. ]\n",
      " [ 1.   7.6  3.   6.6  2.1]\n",
      " [ 1.   6.9  3.2  5.7  2.3]\n",
      " [ 1.   6.1  2.8  4.7  1.2]\n",
      " [ 1.   6.5  3.   5.5  1.8]\n",
      " [ 1.   5.9  3.2  4.8  1.8]\n",
      " [ 1.   6.4  3.2  4.5  1.5]\n",
      " [ 1.   6.7  3.3  5.7  2.1]\n",
      " [ 1.   7.   3.2  4.7  1.4]\n",
      " [ 1.   5.   2.   3.5  1. ]\n",
      " [ 1.   6.   3.   4.8  1.8]\n",
      " [ 1.   7.4  2.8  6.1  1.9]\n",
      " [ 1.   5.6  2.8  4.9  2. ]\n",
      " [ 1.   6.7  3.   5.   1.7]\n",
      " [ 1.   5.7  3.   4.2  1.2]\n",
      " [ 1.   5.7  2.8  4.5  1.3]\n",
      " [ 1.   6.1  3.   4.9  1.8]\n",
      " [ 1.   6.3  2.9  5.6  1.8]\n",
      " [ 1.   5.1  2.5  3.   1.1]\n",
      " [ 1.   5.6  3.   4.5  1.5]\n",
      " [ 1.   6.2  2.8  4.8  1.8]\n",
      " [ 1.   6.3  2.5  5.   1.9]\n",
      " [ 1.   6.2  2.2  4.5  1.5]\n",
      " [ 1.   5.6  2.5  3.9  1.1]\n",
      " [ 1.   5.8  2.6  4.   1.2]\n",
      " [ 1.   4.9  2.5  4.5  1.7]\n",
      " [ 1.   6.7  3.   5.2  2.3]\n",
      " [ 1.   6.4  3.1  5.5  1.8]\n",
      " [ 1.   6.1  2.6  5.6  1.4]\n",
      " [ 1.   6.8  2.8  4.8  1.4]\n",
      " [ 1.   6.8  3.   5.5  2.1]\n",
      " [ 1.   5.7  2.6  3.5  1. ]\n",
      " [ 1.   6.9  3.1  4.9  1.5]\n",
      " [ 1.   7.3  2.9  6.3  1.8]\n",
      " [ 1.   6.7  3.1  4.4  1.4]\n",
      " [ 1.   6.9  3.1  5.1  2.3]\n",
      " [ 1.   6.   2.7  5.1  1.6]\n",
      " [ 1.   6.4  2.7  5.3  1.9]\n",
      " [ 1.   4.9  2.4  3.3  1. ]\n",
      " [ 1.   5.5  2.5  4.   1.3]\n",
      " [ 1.   6.4  2.8  5.6  2.2]\n",
      " [ 1.   6.5  3.   5.8  2.2]\n",
      " [ 1.   6.3  2.8  5.1  1.5]\n",
      " [ 1.   6.8  3.2  5.9  2.3]\n",
      " [ 1.   6.5  3.   5.2  2. ]\n",
      " [ 1.   5.9  3.   4.2  1.5]\n",
      " [ 1.   6.3  2.5  4.9  1.5]\n",
      " [ 1.   6.6  3.   4.4  1.4]\n",
      " [ 1.   6.1  3.   4.6  1.4]\n",
      " [ 1.   6.4  3.2  5.3  2.3]\n",
      " [ 1.   7.2  3.6  6.1  2.5]\n",
      " [ 1.   6.7  3.1  5.6  2.4]\n",
      " [ 1.   6.4  2.8  5.6  2.1]\n",
      " [ 1.   5.5  2.6  4.4  1.2]\n",
      " [ 1.   6.6  2.9  4.6  1.3]\n",
      " [ 1.   6.2  2.9  4.3  1.3]\n",
      " [ 1.   5.6  3.   4.1  1.3]\n",
      " [ 1.   6.3  2.3  4.4  1.3]\n",
      " [ 1.   6.   3.4  4.5  1.6]\n",
      " [ 1.   7.7  3.   6.1  2.3]\n",
      " [ 1.   6.7  3.3  5.7  2.5]\n",
      " [ 1.   6.5  3.2  5.1  2. ]\n",
      " [ 1.   7.2  3.2  6.   1.8]\n",
      " [ 1.   7.9  3.8  6.4  2. ]\n",
      " [ 1.   5.8  2.7  3.9  1.2]\n",
      " [ 1.   6.4  2.9  4.3  1.3]\n",
      " [ 1.   7.7  3.8  6.7  2.2]\n",
      " [ 1.   5.8  2.7  5.1  1.9]\n",
      " [ 1.   5.8  2.8  5.1  2.4]\n",
      " [ 1.   7.7  2.6  6.9  2.3]\n",
      " [ 1.   6.3  3.4  5.6  2.4]\n",
      " [ 1.   6.2  3.4  5.4  2.3]\n",
      " [ 1.   5.7  2.8  4.1  1.3]\n",
      " [ 1.   6.1  2.9  4.7  1.4]\n",
      " [ 1.   5.   2.3  3.3  1. ]\n",
      " [ 1.   6.3  2.7  4.9  1.8]\n",
      " [ 1.   5.5  2.4  3.7  1. ]\n",
      " [ 1.   6.3  3.3  4.7  1.6]]\n"
     ]
    }
   ],
   "source": [
    "## 4. Compute the Gradients ##\n",
    "\n",
    "# Initialize parameters\n",
    "theta_init = np.random.normal(0,0.01,size=(5,1))\n",
    "\n",
    "\n",
    "def cg(x,y,theta_init):\n",
    "    h=sigmoid_activation(x,theta_init)\n",
    "    return ((y-h)*h*(1-h)*x)\n",
    "\n",
    "# Store the updates into this array\n",
    "grads = np.zeros(theta_init.shape)\n",
    "\n",
    "# Number of observations \n",
    "n = X.shape[0]\n",
    "\n",
    "total=0\n",
    "for i,val in enumerate(X):\n",
    "    total+=cg(X[i],y[i],theta_init)\n",
    "    \n",
    "total=total/n\n",
    "\n",
    "gradlist=[]\n",
    "gradlist.append([total[0]])\n",
    "gradlist.append([total[1]])\n",
    "gradlist.append([total[2]])\n",
    "gradlist.append([total[3]])\n",
    "gradlist.append([total[4]])\n",
    "grads=np.asarray(gradlist)\n",
    "\n",
    "print(X)\n"
   ]
  },
  {
   "cell_type": "code",
   "execution_count": 22,
   "metadata": {},
   "outputs": [
    {
     "data": {
      "text/plain": [
       "array([[ 0.50228976,  0.50230719,  0.50230528,  0.50229902,  0.502316  ,\n",
       "         0.50230513,  0.5022863 ,  0.50230045,  0.50228872,  0.50228965,\n",
       "         0.50229578,  0.50230729,  0.5023065 ,  0.50229359,  0.50229972,\n",
       "         0.50229892,  0.50229701,  0.50230243,  0.50230241,  0.50230607,\n",
       "         0.50230784,  0.50229721,  0.50228475,  0.50229082,  0.50230852,\n",
       "         0.50229287,  0.50229967,  0.5023112 ,  0.50230366,  0.50230708,\n",
       "         0.50229613,  0.5022939 ,  0.50230787,  0.50228884,  0.5023114 ,\n",
       "         0.50229967,  0.50230167,  0.50229903,  0.50230651,  0.50229903,\n",
       "         0.50230531,  0.50230648,  0.50230387,  0.50229991,  0.50229181,\n",
       "         0.50229574,  0.50229707,  0.50230877,  0.50231066,  0.50230168,\n",
       "         0.50228819,  0.50229153,  0.50230381,  0.50229705,  0.50229619,\n",
       "         0.50228742,  0.50229891,  0.5023113 ,  0.50229774,  0.50229982,\n",
       "         0.50230124,  0.50229986,  0.50230527,  0.50230586,  0.50229495,\n",
       "         0.50230783,  0.50230585,  0.50230648,  0.50229236,  0.50229828,\n",
       "         0.50230032,  0.50231467,  0.50231314,  0.50231131,  0.50230321,\n",
       "         0.50229638,  0.50229353,  0.50229831,  0.50230509,  0.50228902,\n",
       "         0.50231109,  0.50229768,  0.50231532,  0.50230917,  0.50229412,\n",
       "         0.50229865,  0.50229907,  0.50229694,  0.50230208,  0.50230528,\n",
       "         0.50231691,  0.50228692,  0.502318  ,  0.50231799,  0.50230177,\n",
       "         0.50229831,  0.50229924,  0.50230118,  0.50229441,  0.50230635]])"
      ]
     },
     "execution_count": 22,
     "metadata": {},
     "output_type": "execute_result"
    }
   ],
   "source": [
    "## 6. Neural Network ##\n",
    "\n",
    "theta0_init = np.random.normal(0,0.01,size=(5,4))\n",
    "theta1_init = np.random.normal(0,0.01,size=(5,1))\n",
    "def feedforward(t0,t1,x):\n",
    "    h=[[]]\n",
    "    for row in X:\n",
    "        res1=sigmoid_activation(row,t0)\n",
    "        res1=np.append([1],res1)\n",
    "        h[0].append(sigmoid_activation(res1,t1)[0])\n",
    "    return np.asarray(h)\n",
    "\n",
    "    \n",
    "h=feedforward(theta0_init,theta1_init,X)\n",
    "h"
   ]
  },
  {
   "cell_type": "code",
   "execution_count": 24,
   "metadata": {},
   "outputs": [
    {
     "data": {
      "text/plain": [
       "0.69316159698734969"
      ]
     },
     "execution_count": 24,
     "metadata": {},
     "output_type": "execute_result"
    }
   ],
   "source": [
    "\n",
    "## 7. Multiple neural network cost function ##\n",
    "\n",
    "theta0_init = np.random.normal(0,0.01,size=(5,4))\n",
    "theta1_init = np.random.normal(0,0.01,size=(5,1))\n",
    "\n",
    "# X and y are in memory and should be used as inputs to multiplecost()\n",
    "def multiplecost(X,y):\n",
    "    cost=0\n",
    "    m=X.shape[0]\n",
    "    for i,x in enumerate(X):\n",
    "        cost+=y[i]*np.log(h[0][i])+(1-y[i])*np.log(1-h[0][i])\n",
    "    return  -cost/m\n",
    "\n",
    "\n",
    "c=multiplecost(X,y)\n",
    "c"
   ]
  },
  {
   "cell_type": "code",
   "execution_count": 26,
   "metadata": {},
   "outputs": [
    {
     "data": {
      "image/png": "[encoded data removed]",
      "text/plain": [
       "<matplotlib.figure.Figure at 0x22cb0d85f28>"
      ]
     },
     "metadata": {},
     "output_type": "display_data"
    }
   ],
   "source": [
    "\n",
    "## 8. Backpropagation ##\n",
    "\n",
    "class NNet3:\n",
    "    def __init__(self, learning_rate=0.5, maxepochs=1e4, convergence_thres=1e-5, hidden_layer=4):\n",
    "        self.learning_rate = learning_rate\n",
    "        self.maxepochs = int(maxepochs)\n",
    "        self.convergence_thres = 1e-5\n",
    "        self.hidden_layer = int(hidden_layer)\n",
    "        \n",
    "    def _multiplecost(self, X, y):\n",
    "        # feed through network\n",
    "        l1, l2 = self._feedforward(X) \n",
    "        # compute error\n",
    "        inner = y * np.log(l2) + (1-y) * np.log(1-l2)\n",
    "        # negative of average error\n",
    "        return -np.mean(inner)\n",
    "    \n",
    "    def _feedforward(self, X):\n",
    "        # feedforward to the first layer\n",
    "        l1 = sigmoid_activation(X.T, self.theta0).T\n",
    "        # add a column of ones for bias term\n",
    "        l1 = np.column_stack([np.ones(l1.shape[0]), l1])\n",
    "        # activation units are then inputted to the output layer\n",
    "        l2 = sigmoid_activation(l1.T, self.theta1)\n",
    "        return l1, l2\n",
    "    \n",
    "    def predict(self, X):\n",
    "        _, y = self._feedforward(X)\n",
    "        return y\n",
    "    \n",
    "    def learn(self, X, y):\n",
    "        nobs, ncols = X.shape\n",
    "        self.theta0 = np.random.normal(0,0.01,size=(ncols,self.hidden_layer))\n",
    "        self.theta1 = np.random.normal(0,0.01,size=(self.hidden_layer+1,1))\n",
    "        \n",
    "        self.costs = []\n",
    "        cost = self._multiplecost(X, y)\n",
    "        self.costs.append(cost)\n",
    "        costprev = cost + self.convergence_thres+1  # set an inital costprev to past while loop\n",
    "        counter = 0  # intialize a counter\n",
    "\n",
    "        # Loop through until convergence\n",
    "        for counter in range(self.maxepochs):\n",
    "            # feedforward through network\n",
    "            l1, l2 = self._feedforward(X)\n",
    "\n",
    "            # Start Backpropagation\n",
    "            # Compute gradients\n",
    "            l2_delta = (y-l2) * l2 * (1-l2)\n",
    "            l1_delta = l2_delta.T.dot(self.theta1.T) * l1 * (1-l1)\n",
    "\n",
    "            # Update parameters by averaging gradients and multiplying by the learning rate\n",
    "            self.theta1 += l1.T.dot(l2_delta.T) / nobs * self.learning_rate\n",
    "            self.theta0 += X.T.dot(l1_delta)[:,1:] / nobs * self.learning_rate\n",
    "            \n",
    "            # Store costs and check for convergence\n",
    "            counter += 1  # Count\n",
    "            costprev = cost  # Store prev cost\n",
    "            cost = self._multiplecost(X, y)  # get next cost\n",
    "            self.costs.append(cost)\n",
    "            if np.abs(costprev-cost) < self.convergence_thres and counter > 500:\n",
    "                break\n",
    "\n",
    "# Set a learning rate\n",
    "learning_rate = 0.5\n",
    "# Maximum number of iterations for gradient descent\n",
    "maxepochs = 10000       \n",
    "# Costs convergence threshold, ie. (prevcost - cost) > convergence_thres\n",
    "convergence_thres = 0.00001  \n",
    "# Number of hidden units\n",
    "hidden_units = 4\n",
    "\n",
    "# Initialize model \n",
    "model = NNet3(learning_rate=learning_rate, maxepochs=maxepochs,\n",
    "              convergence_thres=convergence_thres, hidden_layer=hidden_units)\n",
    "# Train model\n",
    "model.learn(X, y)\n",
    "\n",
    "# Plot costs\n",
    "plt.plot(model.costs)\n",
    "plt.title(\"Convergence of the Cost Function\")\n",
    "plt.ylabel(\"J($\\Theta$)\")\n",
    "plt.xlabel(\"Iteration\")\n",
    "plt.show()\n"
   ]
  },
  {
   "cell_type": "code",
   "execution_count": 27,
   "metadata": {
    "collapsed": true
   },
   "outputs": [],
   "source": [
    "\n",
    "## 9. Splitting data ##\n",
    "\n",
    "# First 70 rows to X_train and y_train\n",
    "# Last 30 rows to X_test and y_test\n",
    "X_train=X[:int(0.7*(X.shape[0]))]\n",
    "y_train=y[:int(0.7*(len(y)))]\n",
    "\n",
    "X_test=X[int(0.7*(X.shape[0])):]\n",
    "y_test=y[int(0.7*(len(y))):]\n",
    "\n"
   ]
  },
  {
   "cell_type": "code",
   "execution_count": 29,
   "metadata": {},
   "outputs": [
    {
     "data": {
      "text/plain": [
       "1.0"
      ]
     },
     "execution_count": 29,
     "metadata": {},
     "output_type": "execute_result"
    }
   ],
   "source": [
    "## 10. Predicting iris flowers ##\n",
    "\n",
    "from sklearn.metrics import roc_auc_score\n",
    "# Set a learning rate\n",
    "learning_rate = 0.5\n",
    "# Maximum number of iterations for gradient descent\n",
    "maxepochs = 10000       \n",
    "# Costs convergence threshold, ie. (prevcost - cost) > convergence_thres\n",
    "convergence_thres = 0.00001  \n",
    "# Number of hidden units\n",
    "hidden_units = 4\n",
    "\n",
    "# Initialize model \n",
    "model = NNet3(learning_rate=learning_rate, maxepochs=maxepochs,\n",
    "              convergence_thres=convergence_thres, hidden_layer=hidden_units)\n",
    "model.learn(X_test,y_test)\n",
    "species =model.predict(X_test)[0]\n",
    "\n",
    "auc=roc_auc_score(y_true=y_test,y_score=species)\n",
    "auc"
   ]
  },
  {
   "cell_type": "code",
   "execution_count": null,
   "metadata": {
    "collapsed": true
   },
   "outputs": [],
   "source": []
  },
  {
   "cell_type": "code",
   "execution_count": null,
   "metadata": {
    "collapsed": true
   },
   "outputs": [],
   "source": []
  },
  {
   "cell_type": "code",
   "execution_count": null,
   "metadata": {
    "collapsed": true
   },
   "outputs": [],
   "source": []
  }
 ],
 "metadata": {
  "kernelspec": {
   "display_name": "Python 3",
   "language": "python",
   "name": "python3"
  },
  "language_info": {
   "codemirror_mode": {
    "name": "ipython",
    "version": 3
   },
   "file_extension": ".py",
   "mimetype": "text/x-python",
   "name": "python",
   "nbconvert_exporter": "python",
   "pygments_lexer": "ipython3",
   "version": "3.6.1"
  }
 },
 "nbformat": 4,
 "nbformat_minor": 2
}
