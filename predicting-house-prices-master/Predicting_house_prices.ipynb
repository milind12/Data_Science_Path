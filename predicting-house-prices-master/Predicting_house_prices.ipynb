{
 "cells": [
  {
   "cell_type": "code",
   "execution_count": 203,
   "metadata": {
    "collapsed": false
   },
   "outputs": [
    {
     "name": "stderr",
     "output_type": "stream",
     "text": [
      "/dataquest/system/env/python3/lib/python3.4/site-packages/ipykernel/__main__.py:17: FutureWarning: reshape is deprecated and will raise in a subsequent release. Please use .values.reshape(...) instead\n",
      "/dataquest/system/env/python3/lib/python3.4/site-packages/ipykernel/__main__.py:20: FutureWarning: reshape is deprecated and will raise in a subsequent release. Please use .values.reshape(...) instead\n"
     ]
    },
    {
     "data": {
      "text/plain": [
       "[('Overall Qual', 49492.23698000454),\n",
       " ('Gr Liv Area', 57088.25161263909),\n",
       " ('Garage Cars', 63009.90693123263),\n",
       " ('Garage Area', 63926.38919810563),\n",
       " ('1st Flr SF', 66145.85396434217),\n",
       " ('Total Bsmt SF', 66495.37509929673),\n",
       " ('Full Bath', 66967.82905766825),\n",
       " ('Year Built', 69220.60962857505),\n",
       " ('Year Remod/Add', 69471.5754945993),\n",
       " ('TotRms AbvGrd', 70188.0119316708),\n",
       " ('Mas Vnr Area', 70683.12479163056),\n",
       " ('Garage Yr Blt', 71545.78552263608),\n",
       " ('Fireplaces', 72074.62660487094),\n",
       " ('Wood Deck SF', 76680.25475889367),\n",
       " ('Lot Frontage', 76745.85039159581),\n",
       " ('BsmtFin SF 1', 77042.77499513769),\n",
       " ('2nd Flr SF', 77495.6615651655),\n",
       " ('Half Bath', 77771.18296845852),\n",
       " ('Open Porch SF', 78215.43997290742),\n",
       " ('Lot Area', 78657.78198170225),\n",
       " ('Bsmt Full Bath', 79192.89806768319),\n",
       " ('PID', 79227.94967039453),\n",
       " ('Bsmt Unf SF', 79660.16243213987),\n",
       " ('Bedroom AbvGr', 80290.22597377666),\n",
       " ('Screen Porch', 80783.10473059681),\n",
       " ('Kitchen AbvGr', 80881.97969320723),\n",
       " ('Overall Cond', 80930.27473175504),\n",
       " ('MS SubClass', 81100.36176225863),\n",
       " ('Enclosed Porch', 81280.28289620018),\n",
       " ('3Ssn Porch', 81346.91811553181),\n",
       " ('Misc Val', 81355.0709534934),\n",
       " ('BsmtFin SF 2', 81369.12457165337),\n",
       " ('Bsmt Half Bath', 81424.31992919686),\n",
       " ('Low Qual Fin SF', 81428.10479402215),\n",
       " ('Mo Sold', 81454.02708551512),\n",
       " ('Yr Sold', 81681.53280204066),\n",
       " ('Order', 83596.71890397112),\n",
       " ('Pool Area', 166046.1977215299)]"
      ]
     },
     "execution_count": 203,
     "metadata": {},
     "output_type": "execute_result"
    }
   ],
   "source": [
    "import pandas as pd\n",
    "import matplotlib.pyplot as plt\n",
    "import numpy as np\n",
    "from sklearn.linear_model import LinearRegression\n",
    "from sklearn.metrics import mean_squared_error\n",
    "from math import sqrt\n",
    "from sklearn.model_selection import KFold\n",
    "def train_and_test(df):\n",
    "    train=df[:1460]\n",
    "    test=df[1460:]\n",
    "    numerics = ['int16', 'int32', 'int64', 'float16', 'float32', 'float64']\n",
    "    ndf=train.select_dtypes(include=numerics)\n",
    "    ndf=ndf.drop(['SalePrice'],axis=1)\n",
    "    dic={}\n",
    "    for col in ndf.columns:\n",
    "        lr=LinearRegression()\n",
    "        lr.fit(ndf[col].reshape(-1, 1),train['SalePrice'])\n",
    "        tdf=test.select_dtypes(include=numerics)\n",
    "        tdf=tdf.drop(['SalePrice'],axis=1)\n",
    "        predictions=lr.predict(tdf[col].reshape(-1, 1))\n",
    "        rms = sqrt(mean_squared_error(test['SalePrice'], predictions))\n",
    "        dic[col]=rms\n",
    "    return dic\n",
    "df=pd.read_csv(\"AmesHousing.tsv\",delimiter=\"\\t\")\n",
    "ndf=df.select_dtypes(include=['int','float']).fillna(df.mean())\n",
    "d=train_and_test(ndf)\n",
    "import operator\n",
    "sorted(d.items(), key=operator.itemgetter(1))"
   ]
  },
  {
   "cell_type": "code",
   "execution_count": 204,
   "metadata": {
    "collapsed": false
   },
   "outputs": [
    {
     "data": {
      "text/plain": [
       "40869.979671873436"
      ]
     },
     "execution_count": 204,
     "metadata": {},
     "output_type": "execute_result"
    }
   ],
   "source": [
    "#Checking rms for some of the features\n",
    "def train_and_test(df):\n",
    "    df=df.fillna(df.mean())\n",
    "    train=df[:1460]\n",
    "    test=df[1460:]\n",
    "    lr=LinearRegression()\n",
    "    features=['Overall Qual','Gr Liv Area','Garage Cars']\n",
    "    lr.fit(train[features],train['SalePrice'])\n",
    "    predictions=lr.predict(test[features])\n",
    "    rms = sqrt(mean_squared_error(test['SalePrice'], predictions))\n",
    "    return rms\n",
    "train_and_test(df[['Overall Qual','Gr Liv Area','Garage Cars','SalePrice']])"
   ]
  },
  {
   "cell_type": "code",
   "execution_count": 205,
   "metadata": {
    "collapsed": false
   },
   "outputs": [
    {
     "data": {
      "text/plain": [
       "Index(['Order', 'PID', 'MS SubClass', 'MS Zoning', 'Lot Area', 'Street',\n",
       "       'Lot Shape', 'Land Contour', 'Utilities', 'Lot Config', 'Land Slope',\n",
       "       'Neighborhood', 'Condition 1', 'Condition 2', 'Bldg Type',\n",
       "       'House Style', 'Overall Qual', 'Overall Cond', 'Roof Style',\n",
       "       'Roof Matl', 'Exterior 1st', 'Exterior 2nd', 'Mas Vnr Area',\n",
       "       'Exter Qual', 'Exter Cond', 'Foundation', 'BsmtFin SF 1',\n",
       "       'BsmtFin SF 2', 'Bsmt Unf SF', 'Total Bsmt SF', 'Heating', 'Heating QC',\n",
       "       'Central Air', '1st Flr SF', '2nd Flr SF', 'Low Qual Fin SF',\n",
       "       'Gr Liv Area', 'Bsmt Full Bath', 'Bsmt Half Bath', 'Full Bath',\n",
       "       'Half Bath', 'Bedroom AbvGr', 'Kitchen AbvGr', 'Kitchen Qual',\n",
       "       'TotRms AbvGrd', 'Functional', 'Fireplaces', 'Garage Cars',\n",
       "       'Garage Area', 'Paved Drive', 'Wood Deck SF', 'Open Porch SF',\n",
       "       'Enclosed Porch', '3Ssn Porch', 'Screen Porch', 'Pool Area', 'Misc Val',\n",
       "       'Mo Sold', 'Sale Type', 'Sale Condition', 'SalePrice',\n",
       "       'Years Before Sale', 'Years Since Remod'],\n",
       "      dtype='object')"
      ]
     },
     "execution_count": 205,
     "metadata": {},
     "output_type": "execute_result"
    }
   ],
   "source": [
    "\n",
    "\n",
    "num_cols=list(df.isnull().sum()[df.isnull().sum()<147].index)\n",
    "num_cols=df[num_cols].select_dtypes(include=['int','float']).columns\n",
    "df[num_cols]=df[num_cols].fillna(df.mean())\n",
    "\n",
    "#drop text columns with more than zero empty values\n",
    "rows=df.shape[0]\n",
    "txt_cols=df.select_dtypes(include=['object']).isnull().sum()\n",
    "drop_txt_cols=txt_cols[txt_cols>0]\n",
    "df=df.drop(drop_txt_cols.index,axis=1)\n",
    "df.columns\n",
    "\n",
    "#drop numerical columns with more than 5% of empty values\n",
    "lim=rows/20\n",
    "num_cols=df.select_dtypes(include=['int','float']).isnull().sum()\n",
    "drop_num_cols=num_cols[num_cols>lim]\n",
    "df=df.drop(drop_num_cols.index,axis=1)\n",
    "years_sold = df['Yr Sold'] - df['Year Built']\n",
    "years_since_remod = df['Yr Sold'] - df['Year Remod/Add']\n",
    "df['Years Before Sale'] = years_sold\n",
    "df['Years Since Remod'] = years_since_remod\n",
    "df=df.drop(['Year Built','Year Remod/Add','Yr Sold'],axis=1)\n",
    "df.columns"
   ]
  },
  {
   "cell_type": "code",
   "execution_count": 206,
   "metadata": {
    "collapsed": false
   },
   "outputs": [
    {
     "data": {
      "image/png": "[encoded data removed]",
      "text/plain": [
       "<matplotlib.figure.Figure at 0x7f5142c586a0>"
      ]
     },
     "metadata": {},
     "output_type": "display_data"
    }
   ],
   "source": [
    "#let us drop numerical columns that are not correlated with SalePrice\n",
    "num_df=df.select_dtypes(include=['int','float'])\n",
    "corr_mat=num_df.corr()\n",
    "sale_price_corr=corr_mat[\"SalePrice\"]\n",
    "\n",
    "drop_num_cols=list(sale_price_corr[abs(sale_price_corr)<0.28].index)\n",
    "df=df.drop(drop_num_cols,axis=1)\n",
    "%matplotlib inline\n",
    "plt.hist(abs(sale_price_corr),10,alpha=0.5)\n",
    "plt.show()"
   ]
  },
  {
   "cell_type": "code",
   "execution_count": 207,
   "metadata": {
    "collapsed": false
   },
   "outputs": [
    {
     "name": "stdout",
     "output_type": "stream",
     "text": [
      "MS Zoning   7\n",
      "Street   2\n",
      "Lot Shape   4\n",
      "Land Contour   4\n",
      "Utilities   3\n",
      "Lot Config   5\n",
      "Land Slope   3\n",
      "Neighborhood   28\n",
      "Condition 1   9\n",
      "Condition 2   8\n",
      "Bldg Type   5\n",
      "House Style   8\n",
      "Roof Style   6\n",
      "Roof Matl   8\n",
      "Exterior 1st   16\n",
      "Exterior 2nd   17\n",
      "Exter Qual   4\n",
      "Exter Cond   5\n",
      "Foundation   6\n",
      "Heating   6\n",
      "Heating QC   5\n",
      "Central Air   2\n",
      "Kitchen Qual   5\n",
      "Functional   8\n",
      "Paved Drive   3\n",
      "Sale Type   10\n",
      "Sale Condition   6\n"
     ]
    }
   ],
   "source": [
    "#Print number of categorical values present in each categorical column\n",
    "string_cols=df.select_dtypes(include=['object'])\n",
    "for col in string_cols.columns:\n",
    "    print(col,\" \",len(string_cols[col].value_counts()))"
   ]
  },
  {
   "cell_type": "code",
   "execution_count": 208,
   "metadata": {
    "collapsed": false
   },
   "outputs": [],
   "source": [
    "#Dropping columns with more than 10 categorical values\n",
    "drop_str_cols=list()\n",
    "for col in string_cols.columns:\n",
    "    if len(string_cols[col].value_counts())>10:\n",
    "       drop_str_cols.append(col)\n",
    "df=df.drop(drop_str_cols,axis=1)"
   ]
  },
  {
   "cell_type": "code",
   "execution_count": 209,
   "metadata": {
    "collapsed": false
   },
   "outputs": [
    {
     "name": "stdout",
     "output_type": "stream",
     "text": [
      "Overall Qual              0.799262\n",
      "Mas Vnr Area              0.505784\n",
      "BsmtFin SF 1              0.432794\n",
      "Total Bsmt SF             0.632105\n",
      "1st Flr SF                0.621676\n",
      "Gr Liv Area               0.706780\n",
      "Full Bath                 0.545604\n",
      "Half Bath                 0.285056\n",
      "TotRms AbvGrd             0.495474\n",
      "Fireplaces                0.474558\n",
      "Garage Cars               0.647861\n",
      "Garage Area               0.640385\n",
      "Wood Deck SF              0.327143\n",
      "Open Porch SF             0.312951\n",
      "SalePrice                 1.000000\n",
      "Years Before Sale         0.558907\n",
      "Years Since Remod         0.534940\n",
      "MS Zoning_A (agr)         0.043682\n",
      "MS Zoning_C (all)         0.117307\n",
      "MS Zoning_FV              0.106706\n",
      "MS Zoning_I (all)         0.032879\n",
      "MS Zoning_RH              0.053581\n",
      "MS Zoning_RL              0.244217\n",
      "MS Zoning_RM              0.292590\n",
      "Street_Grvl               0.059519\n",
      "Street_Pave               0.059519\n",
      "Lot Shape_IR1             0.267209\n",
      "Lot Shape_IR2             0.099685\n",
      "Lot Shape_IR3             0.038154\n",
      "Lot Shape_Reg             0.300461\n",
      "                            ...   \n",
      "Kitchen Qual_Gd           0.304463\n",
      "Kitchen Qual_Po           0.016956\n",
      "Kitchen Qual_TA           0.526721\n",
      "Functional_Maj1           0.028367\n",
      "Functional_Maj2           0.062319\n",
      "Functional_Min1           0.056011\n",
      "Functional_Min2           0.064821\n",
      "Functional_Mod            0.040136\n",
      "Functional_Sal            0.048835\n",
      "Functional_Sev            0.027828\n",
      "Functional_Typ            0.119343\n",
      "Paved Drive_N             0.259856\n",
      "Paved Drive_P             0.084702\n",
      "Paved Drive_Y             0.273314\n",
      "Sale Type_COD             0.106326\n",
      "Sale Type_CWD             0.002763\n",
      "Sale Type_Con             0.022595\n",
      "Sale Type_ConLD           0.065212\n",
      "Sale Type_ConLI           0.000480\n",
      "Sale Type_ConLw           0.038558\n",
      "Sale Type_New             0.354292\n",
      "Sale Type_Oth             0.040361\n",
      "Sale Type_VWD             0.010132\n",
      "Sale Type_WD              0.204369\n",
      "Sale Condition_Abnorml    0.133193\n",
      "Sale Condition_AdjLand    0.057710\n",
      "Sale Condition_Alloca     0.021564\n",
      "Sale Condition_Family     0.036853\n",
      "Sale Condition_Normal     0.141418\n",
      "Sale Condition_Partial    0.350122\n",
      "Name: SalePrice, dtype: float64\n"
     ]
    }
   ],
   "source": [
    "#Using dummy coding\n",
    "str_cols=df.select_dtypes(include=['object']).columns\n",
    "for col in df.select_dtypes(include=['object']).columns:\n",
    "    df[col]=df[col].astype('category')\n",
    "df = pd.concat([df, pd.get_dummies(df.select_dtypes(include=['category']))], axis=1)\n",
    "df=df.drop(str_cols,axis=1)\n",
    "\n",
    "corr_mat=df.corr()\n",
    "sale_price_corr=corr_mat[\"SalePrice\"]\n",
    "print(abs(sale_price_corr))\n",
    "drop_num_cols=list(sale_price_corr[abs(sale_price_corr)<0.1].index)\n",
    "df=df.drop(drop_num_cols,axis=1)"
   ]
  },
  {
   "cell_type": "code",
   "execution_count": 210,
   "metadata": {
    "collapsed": false
   },
   "outputs": [
    {
     "data": {
      "text/plain": [
       "Index(['Overall Qual', 'Mas Vnr Area', 'BsmtFin SF 1', 'Total Bsmt SF',\n",
       "       '1st Flr SF', 'Gr Liv Area', 'Full Bath', 'Half Bath', 'TotRms AbvGrd',\n",
       "       'Fireplaces', 'Garage Cars', 'Garage Area', 'Wood Deck SF',\n",
       "       'Open Porch SF', 'SalePrice', 'Years Before Sale', 'Years Since Remod',\n",
       "       'MS Zoning_C (all)', 'MS Zoning_FV', 'MS Zoning_RL', 'MS Zoning_RM',\n",
       "       'Lot Shape_IR1', 'Lot Shape_Reg', 'Land Contour_HLS',\n",
       "       'Lot Config_CulDSac', 'Condition 1_Artery', 'Condition 1_Feedr',\n",
       "       'Condition 1_Norm', 'Condition 2_PosA', 'Bldg Type_1Fam',\n",
       "       'Bldg Type_2fmCon', 'Bldg Type_Duplex', 'Bldg Type_Twnhs',\n",
       "       'House Style_1.5Fin', 'House Style_2Story', 'Roof Style_Gable',\n",
       "       'Roof Style_Hip', 'Roof Matl_WdShngl', 'Exter Qual_Ex', 'Exter Qual_Fa',\n",
       "       'Exter Qual_Gd', 'Exter Qual_TA', 'Exter Cond_Fa', 'Exter Cond_TA',\n",
       "       'Foundation_BrkTil', 'Foundation_CBlock', 'Foundation_PConc',\n",
       "       'Foundation_Slab', 'Heating QC_Ex', 'Heating QC_Fa', 'Heating QC_Gd',\n",
       "       'Heating QC_TA', 'Central Air_N', 'Central Air_Y', 'Kitchen Qual_Ex',\n",
       "       'Kitchen Qual_Fa', 'Kitchen Qual_Gd', 'Kitchen Qual_TA',\n",
       "       'Functional_Typ', 'Paved Drive_N', 'Paved Drive_Y', 'Sale Type_COD',\n",
       "       'Sale Type_New', 'Sale Type_WD ', 'Sale Condition_Abnorml',\n",
       "       'Sale Condition_Normal', 'Sale Condition_Partial'],\n",
       "      dtype='object')"
      ]
     },
     "execution_count": 210,
     "metadata": {},
     "output_type": "execute_result"
    }
   ],
   "source": [
    "#Columns left\n",
    "df.columns"
   ]
  },
  {
   "cell_type": "code",
   "execution_count": 211,
   "metadata": {
    "collapsed": false
   },
   "outputs": [
    {
     "data": {
      "text/plain": [
       "[27642.64541039454, 33163.658588584454, 33972.855368775723, 28294.473928218973]"
      ]
     },
     "execution_count": 211,
     "metadata": {},
     "output_type": "execute_result"
    }
   ],
   "source": [
    "#Calculate rms value for 4 folds in cross validation\n",
    "lr=LinearRegression()\n",
    "kf = KFold(n_splits=4, shuffle=True)\n",
    "\n",
    "rmse_values = []\n",
    "features=df.columns\n",
    "features=features.drop(\"SalePrice\")\n",
    "for train_index, test_index, in kf.split(df):\n",
    "    train = df.iloc[train_index]\n",
    "    test = df.iloc[test_index]\n",
    "    lr.fit(train[features], train[\"SalePrice\"])\n",
    "    predictions = lr.predict(test[features])\n",
    "    mse = mean_squared_error(test[\"SalePrice\"], predictions)\n",
    "    rmse = np.sqrt(mse)\n",
    "    rmse_values.append(rmse)\n",
    "rmse_values"
   ]
  }
 ],
 "metadata": {
  "anaconda-cloud": {},
  "kernelspec": {
   "display_name": "Python 3",
   "language": "python",
   "name": "python3"
  },
  "language_info": {
   "codemirror_mode": {
    "name": "ipython",
    "version": 3
   },
   "file_extension": ".py",
   "mimetype": "text/x-python",
   "name": "python",
   "nbconvert_exporter": "python",
   "pygments_lexer": "ipython3",
   "version": "3.4.3"
  }
 },
 "nbformat": 4,
 "nbformat_minor": 2
}
